{
 "cells": [
  {
   "cell_type": "code",
   "execution_count": 2,
   "id": "c8ed7588-b9d4-4cac-9d7b-cc50db2eead4",
   "metadata": {},
   "outputs": [],
   "source": [
    "#!pip install gspread "
   ]
  },
  {
   "cell_type": "code",
   "execution_count": 3,
   "id": "6d000917-59a1-4fd9-8198-5dafcff72a4f",
   "metadata": {},
   "outputs": [],
   "source": [
    "import pandas as pd \n",
    "import gspread "
   ]
  },
  {
   "cell_type": "code",
   "execution_count": 7,
   "id": "d855f6c9-fc77-48a0-83e6-25acef70706f",
   "metadata": {},
   "outputs": [],
   "source": [
    "gc=gspread.service_account(filename=\"C:\\\\Users\\\\AHONA\\\\Downloads\\\\test1-460301-4ca44bbcc16b.json\") "
   ]
  },
  {
   "cell_type": "code",
   "execution_count": 10,
   "id": "5cd36aca-1810-4cbd-aea8-2e919e331763",
   "metadata": {},
   "outputs": [
    {
     "data": {
      "text/plain": [
       "<gspread.client.Client at 0x1dee1e57b30>"
      ]
     },
     "execution_count": 10,
     "metadata": {},
     "output_type": "execute_result"
    }
   ],
   "source": [
    "gc"
   ]
  },
  {
   "cell_type": "code",
   "execution_count": 13,
   "id": "f961b777-3fdc-468c-a645-9d7d99cb06e1",
   "metadata": {},
   "outputs": [
    {
     "data": {
      "text/plain": [
       "<Spreadsheet 'test11@test1-460301.iam.gserviceaccount.comUntitled spreadsheet' id:13pgJC1Cd_gc5ZIT9tnnkgDyvNHjhO-R-HyCUdh6EVRw>"
      ]
     },
     "execution_count": 13,
     "metadata": {},
     "output_type": "execute_result"
    }
   ],
   "source": [
    "sheet = gc.open_by_url(\"https://docs.google.com/spreadsheets/d/13pgJC1Cd_gc5ZIT9tnnkgDyvNHjhO-R-HyCUdh6EVRw/edit?usp=sharing\")\n",
    "sheet"
   ]
  },
  {
   "cell_type": "code",
   "execution_count": 14,
   "id": "cd88afa4-939d-4e78-b703-32a09653aa42",
   "metadata": {},
   "outputs": [],
   "source": [
    "ws=sheet.worksheet('Sheet1')"
   ]
  },
  {
   "cell_type": "code",
   "execution_count": 15,
   "id": "126fe9ad-c768-4d09-94c8-5e12378dd6c6",
   "metadata": {},
   "outputs": [
    {
     "data": {
      "text/html": [
       "<div>\n",
       "<style scoped>\n",
       "    .dataframe tbody tr th:only-of-type {\n",
       "        vertical-align: middle;\n",
       "    }\n",
       "\n",
       "    .dataframe tbody tr th {\n",
       "        vertical-align: top;\n",
       "    }\n",
       "\n",
       "    .dataframe thead th {\n",
       "        text-align: right;\n",
       "    }\n",
       "</style>\n",
       "<table border=\"1\" class=\"dataframe\">\n",
       "  <thead>\n",
       "    <tr style=\"text-align: right;\">\n",
       "      <th></th>\n",
       "      <th>name1</th>\n",
       "      <th>age1</th>\n",
       "    </tr>\n",
       "  </thead>\n",
       "  <tbody>\n",
       "    <tr>\n",
       "      <th>0</th>\n",
       "      <td>Tanha</td>\n",
       "      <td>22</td>\n",
       "    </tr>\n",
       "    <tr>\n",
       "      <th>1</th>\n",
       "      <td>Hamim</td>\n",
       "      <td>23</td>\n",
       "    </tr>\n",
       "    <tr>\n",
       "      <th>2</th>\n",
       "      <td>Sadia</td>\n",
       "      <td>21</td>\n",
       "    </tr>\n",
       "    <tr>\n",
       "      <th>3</th>\n",
       "      <td>Asique</td>\n",
       "      <td>24</td>\n",
       "    </tr>\n",
       "  </tbody>\n",
       "</table>\n",
       "</div>"
      ],
      "text/plain": [
       "    name1  age1\n",
       "0   Tanha    22\n",
       "1   Hamim    23\n",
       "2   Sadia    21\n",
       "3  Asique    24"
      ]
     },
     "execution_count": 15,
     "metadata": {},
     "output_type": "execute_result"
    }
   ],
   "source": [
    "df=pd.DataFrame(ws.get_all_records()) \n",
    "df"
   ]
  },
  {
   "cell_type": "code",
   "execution_count": null,
   "id": "90979968-4ed6-414e-ba13-77b0e80162d5",
   "metadata": {},
   "outputs": [],
   "source": []
  }
 ],
 "metadata": {
  "kernelspec": {
   "display_name": "Python [conda env:base] *",
   "language": "python",
   "name": "conda-base-py"
  },
  "language_info": {
   "codemirror_mode": {
    "name": "ipython",
    "version": 3
   },
   "file_extension": ".py",
   "mimetype": "text/x-python",
   "name": "python",
   "nbconvert_exporter": "python",
   "pygments_lexer": "ipython3",
   "version": "3.12.7"
  }
 },
 "nbformat": 4,
 "nbformat_minor": 5
}
